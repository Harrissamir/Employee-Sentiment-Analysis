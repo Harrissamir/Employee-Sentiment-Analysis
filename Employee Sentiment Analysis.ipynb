{
 "cells": [
  {
   "cell_type": "code",
   "execution_count": null,
   "id": "81fd298d-1b0f-4782-8a7e-7504c512fdde",
   "metadata": {},
   "outputs": [],
   "source": [
    "import pandas as pd\n",
    "import nltk\n",
    "from nltk.sentiment import SentimentIntensityAnalyzer\n",
    "import matplotlib.pyplot as plt\n",
    "import seaborn as sns\n",
    "\n",
    "# Ensure necessary nltk resources are downloaded\n",
    "nltk.download('vader_lexicon')\n",
    "\n",
    "# Initialize sentiment analyzer\n",
    "sia = SentimentIntensityAnalyzer()\n",
    "\n",
    "# Sample employee feedback dataset\n",
    "data = {\n",
    "    'employee_id': [\"0005\", \"0006\", \"0007\", \"0009\", \"0011\"], #\n",
    "    'feedback': [\n",
    "        \"I love working here, the team is amazing!\",\n",
    "        \"The work-life balance could be better.\",\n",
    "        \"I feel undervalued and stressed at work.\",\n",
    "        \"Great leadership and growth opportunities!\",\n",
    "        \"The workload is too much, and I feel exhausted.\"\n",
    "    ]\n",
    "}\n",
    "\n",
    "# Convert to DataFrame\n",
    "df = pd.DataFrame(data)\n",
    "\n",
    "# Analyze sentiment\n",
    "def analyze_sentiment(text):\n",
    "    scores = sia.polarity_scores(text)\n",
    "    return scores['compound']\n",
    "\n",
    "df['sentiment_score'] = df['feedback'].apply(analyze_sentiment)\n",
    "\n",
    "def classify_sentiment(score):\n",
    "    if score >= 0.05:\n",
    "        return \"Positive\"\n",
    "    elif score <= -0.05:\n",
    "        return \"Negative\"\n",
    "    else:\n",
    "        return \"Neutral\"\n",
    "\n",
    "df['sentiment_category'] = df['sentiment_score'].apply(classify_sentiment)\n",
    "\n",
    "# Visualize Sentiment Distribution\n",
    "sns.countplot(x='sentiment_category', data=df, palette='coolwarm')\n",
    "plt.title('Employee Sentiment Distribution')\n",
    "plt.xlabel('Sentiment')\n",
    "plt.ylabel('Count')\n",
    "plt.show()\n",
    "\n",
    "# Display results\n",
    "df\n",
    "\n",
    "sns.countplot(x='sentiment_category', data=df, hue='sentiment_category', palette='coolwarm', legend=False)\n"
   ]
  }
 ],
 "metadata": {
  "kernelspec": {
   "display_name": "Python 3 (ipykernel)",
   "language": "python",
   "name": "python3"
  },
  "language_info": {
   "codemirror_mode": {
    "name": "ipython",
    "version": 3
   },
   "file_extension": ".py",
   "mimetype": "text/x-python",
   "name": "python",
   "nbconvert_exporter": "python",
   "pygments_lexer": "ipython3",
   "version": "3.12.4"
  }
 },
 "nbformat": 4,
 "nbformat_minor": 5
}
