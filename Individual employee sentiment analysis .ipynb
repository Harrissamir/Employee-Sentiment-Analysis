{
 "cells": [
  {
   "cell_type": "code",
   "execution_count": 7,
   "id": "c9157203-f296-4d80-bde6-d7156aa57995",
   "metadata": {},
   "outputs": [
    {
     "name": "stderr",
     "output_type": "stream",
     "text": [
      "[nltk_data] Downloading package vader_lexicon to\n",
      "[nltk_data]     C:\\Users\\samir\\AppData\\Roaming\\nltk_data...\n",
      "[nltk_data]   Package vader_lexicon is already up-to-date!\n",
      "C:\\Users\\samir\\AppData\\Local\\Temp\\ipykernel_19512\\1104048099.py:52: FutureWarning: \n",
      "\n",
      "Passing `palette` without assigning `hue` is deprecated and will be removed in v0.14.0. Assign the `x` variable to `hue` and set `legend=False` for the same effect.\n",
      "\n",
      "  sns.countplot(x='sentiment_category', data=df, palette='coolwarm')\n"
     ]
    },
    {
     "data": {
      "image/png": "[encoded data removed]",
      "text/plain": [
       "<Figure size 640x480 with 1 Axes>"
      ]
     },
     "metadata": {},
     "output_type": "display_data"
    },
    {
     "name": "stdout",
     "output_type": "stream",
     "text": [
      "                                           file_name  \\\n",
      "0  E:\\ProQSmart\\Employee profiles\\Supriya\\Supriya...   \n",
      "\n",
      "                                            feedback  sentiment_score  \\\n",
      "0  1  General Experience\\nWhat led to your decisi...           0.9993   \n",
      "\n",
      "  sentiment_category  \n",
      "0           Positive  \n"
     ]
    }
   ],
   "source": [
    "\n",
    "import docx\n",
    "import pandas as pd\n",
    "import nltk\n",
    "from nltk.sentiment import SentimentIntensityAnalyzer\n",
    "import matplotlib.pyplot as plt\n",
    "import seaborn as sns\n",
    "\n",
    "# Ensure necessary nltk resources are downloaded\n",
    "nltk.download('vader_lexicon')\n",
    "\n",
    "# Initialize Sentiment Analyzer\n",
    "sia = SentimentIntensityAnalyzer()\n",
    "\n",
    "def read_docx(file_path):\n",
    "    \"\"\"Reads text from a .docx file.\"\"\"\n",
    "    doc = docx.Document(file_path)\n",
    "    full_text = []\n",
    "    for para in doc.paragraphs:\n",
    "        full_text.append(para.text)\n",
    "    return \"\\n\".join(full_text)\n",
    "\n",
    "def analyze_sentiment(text):\n",
    "    \"\"\"Analyzes sentiment and returns the compound score.\"\"\"\n",
    "    scores = sia.polarity_scores(text)\n",
    "    return scores['compound']\n",
    "\n",
    "def classify_sentiment(score):\n",
    "    \"\"\"Classifies sentiment into Positive, Neutral, or Negative.\"\"\"\n",
    "    if score >= 0.05:\n",
    "        return \"Positive\"\n",
    "    elif score <= -0.05:\n",
    "        return \"Negative\"\n",
    "    else:\n",
    "        return \"Neutral\"\n",
    "\n",
    "# Define the file path for the Word document\n",
    "file_path = r\"E:\\ProQSmart\\Employee profiles\\Supriya\\Supriya -Exit Interivew - Questionnaire.docx\"\n",
    "\n",
    "# Process the single document\n",
    "feedback_text = read_docx(file_path)\n",
    "sentiment_score = analyze_sentiment(feedback_text)\n",
    "sentiment_category = classify_sentiment(sentiment_score)\n",
    "\n",
    "# Store results in a DataFrame\n",
    "df = pd.DataFrame([[file_path, feedback_text, sentiment_score, sentiment_category]], \n",
    "                  columns=['file_name', 'feedback', 'sentiment_score', 'sentiment_category'])\n",
    "\n",
    "# Save to CSV\n",
    "df.to_csv(\"sentiment_analysis_results.csv\", index=False)\n",
    "\n",
    "# Visualize Sentiment Distribution\n",
    "sns.countplot(x='sentiment_category', data=df, palette='coolwarm')\n",
    "plt.title('Employee Sentiment Distribution')\n",
    "plt.xlabel('Sentiment')\n",
    "plt.ylabel('Count')\n",
    "plt.show()\n",
    "\n",
    "# Display results\n",
    "print(df)\n"
   ]
  },
  {
   "cell_type": "code",
   "execution_count": null,
   "id": "a53bf4f1-5efc-460a-a3d5-0b0325b2da35",
   "metadata": {},
   "outputs": [],
   "source": []
  }
 ],
 "metadata": {
  "kernelspec": {
   "display_name": "Python 3 (ipykernel)",
   "language": "python",
   "name": "python3"
  },
  "language_info": {
   "codemirror_mode": {
    "name": "ipython",
    "version": 3
   },
   "file_extension": ".py",
   "mimetype": "text/x-python",
   "name": "python",
   "nbconvert_exporter": "python",
   "pygments_lexer": "ipython3",
   "version": "3.12.4"
  }
 },
 "nbformat": 4,
 "nbformat_minor": 5
}
